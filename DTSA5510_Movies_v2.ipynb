{
  "nbformat": 4,
  "nbformat_minor": 0,
  "metadata": {
    "colab": {
      "provenance": [],
      "authorship_tag": "ABX9TyObSFqugWZXENQPee1tX8Dr",
      "include_colab_link": true
    },
    "kernelspec": {
      "name": "python3",
      "display_name": "Python 3"
    },
    "language_info": {
      "name": "python"
    }
  },
  "cells": [
    {
      "cell_type": "markdown",
      "metadata": {
        "id": "view-in-github",
        "colab_type": "text"
      },
      "source": [
        "<a href=\"https://colab.research.google.com/github/dstephenhaynes/DTSA5510Movies/blob/main/DTSA5510_Movies_v2.ipynb\" target=\"_parent\"><img src=\"https://colab.research.google.com/assets/colab-badge.svg\" alt=\"Open In Colab\"/></a>"
      ]
    },
    {
      "cell_type": "markdown",
      "source": [
        "### <center>\n",
        "<h1><center>Limitations of sklearn's Non-negative Matrix Factorization (NMF)</center></h1>\n",
        "<h2><center>Unsupervised Algorithms in Machine Learning</center></h2>\n",
        "<h3><center>\n",
        "DTSA-5510\n",
        "\n",
        "University of Colorado Boulder\n",
        "\n",
        "D. Stephen Haynes\n",
        "</center></h3>\n",
        "\n"
      ],
      "metadata": {
        "id": "_5fmFRLBO20V"
      }
    },
    {
      "cell_type": "code",
      "source": [
        "import pandas as pd\n",
        "import numpy as np\n",
        "from sklearn.decomposition import NMF\n",
        "from sklearn.metrics import mean_squared_error"
      ],
      "metadata": {
        "id": "bUfswoXfthaA"
      },
      "execution_count": 6,
      "outputs": []
    },
    {
      "cell_type": "code",
      "source": [
        "movies = pd.read_csv('https://raw.githubusercontent.com/dstephenhaynes/DTSA5510Movies/main/movies.csv')\n",
        "users = pd.read_csv('https://raw.githubusercontent.com/dstephenhaynes/DTSA5510Movies/main/users.csv')\n",
        "train = pd.read_csv('https://raw.githubusercontent.com/dstephenhaynes/DTSA5510Movies/main/train.csv')\n",
        "test = pd.read_csv('https://raw.githubusercontent.com/dstephenhaynes/DTSA5510Movies/main/test.csv')"
      ],
      "metadata": {
        "id": "SZxi82WqthXh"
      },
      "execution_count": 7,
      "outputs": []
    },
    {
      "cell_type": "code",
      "source": [
        "movies.info()\n",
        "print()\n",
        "users.info()\n",
        "print()\n",
        "train.info()\n",
        "print()\n",
        "test.info()"
      ],
      "metadata": {
        "colab": {
          "base_uri": "https://localhost:8080/"
        },
        "collapsed": true,
        "id": "XZakIcnhthVB",
        "outputId": "d52f87ab-d57b-44d5-81f0-cb4035c9e7f5"
      },
      "execution_count": 8,
      "outputs": [
        {
          "output_type": "stream",
          "name": "stdout",
          "text": [
            "<class 'pandas.core.frame.DataFrame'>\n",
            "RangeIndex: 3883 entries, 0 to 3882\n",
            "Data columns (total 21 columns):\n",
            " #   Column  Non-Null Count  Dtype \n",
            "---  ------  --------------  ----- \n",
            " 0   mID     3883 non-null   int64 \n",
            " 1   title   3883 non-null   object\n",
            " 2   year    3883 non-null   int64 \n",
            " 3   Doc     3883 non-null   int64 \n",
            " 4   Com     3883 non-null   int64 \n",
            " 5   Hor     3883 non-null   int64 \n",
            " 6   Adv     3883 non-null   int64 \n",
            " 7   Wes     3883 non-null   int64 \n",
            " 8   Dra     3883 non-null   int64 \n",
            " 9   Ani     3883 non-null   int64 \n",
            " 10  War     3883 non-null   int64 \n",
            " 11  Chi     3883 non-null   int64 \n",
            " 12  Cri     3883 non-null   int64 \n",
            " 13  Thr     3883 non-null   int64 \n",
            " 14  Sci     3883 non-null   int64 \n",
            " 15  Mys     3883 non-null   int64 \n",
            " 16  Rom     3883 non-null   int64 \n",
            " 17  Fil     3883 non-null   int64 \n",
            " 18  Fan     3883 non-null   int64 \n",
            " 19  Act     3883 non-null   int64 \n",
            " 20  Mus     3883 non-null   int64 \n",
            "dtypes: int64(20), object(1)\n",
            "memory usage: 637.2+ KB\n",
            "\n",
            "<class 'pandas.core.frame.DataFrame'>\n",
            "RangeIndex: 6040 entries, 0 to 6039\n",
            "Data columns (total 5 columns):\n",
            " #   Column      Non-Null Count  Dtype \n",
            "---  ------      --------------  ----- \n",
            " 0   uID         6040 non-null   int64 \n",
            " 1   gender      6040 non-null   object\n",
            " 2   age         6040 non-null   int64 \n",
            " 3   accupation  6040 non-null   int64 \n",
            " 4   zip         6040 non-null   object\n",
            "dtypes: int64(3), object(2)\n",
            "memory usage: 236.1+ KB\n",
            "\n",
            "<class 'pandas.core.frame.DataFrame'>\n",
            "RangeIndex: 700146 entries, 0 to 700145\n",
            "Data columns (total 3 columns):\n",
            " #   Column  Non-Null Count   Dtype\n",
            "---  ------  --------------   -----\n",
            " 0   uID     700146 non-null  int64\n",
            " 1   mID     700146 non-null  int64\n",
            " 2   rating  700146 non-null  int64\n",
            "dtypes: int64(3)\n",
            "memory usage: 16.0 MB\n",
            "\n",
            "<class 'pandas.core.frame.DataFrame'>\n",
            "RangeIndex: 300063 entries, 0 to 300062\n",
            "Data columns (total 3 columns):\n",
            " #   Column  Non-Null Count   Dtype\n",
            "---  ------  --------------   -----\n",
            " 0   uID     300063 non-null  int64\n",
            " 1   mID     300063 non-null  int64\n",
            " 2   rating  300063 non-null  int64\n",
            "dtypes: int64(3)\n",
            "memory usage: 6.9 MB\n"
          ]
        }
      ]
    },
    {
      "cell_type": "code",
      "source": [
        "# Prepare training matrix\n",
        "train_matrix = train.pivot(index='uID', columns='mID', values='rating')\n",
        "train_matrix.fillna(0, inplace=True)\n",
        "\n",
        "# Apply Non-Negative Matrix Factorization\n",
        "n_components = 20\n",
        "nmf = NMF(n_components=n_components, init='random', random_state=42, max_iter=1000)\n",
        "W = nmf.fit_transform(train_matrix)\n",
        "H = nmf.components_\n",
        "\n",
        "# Predict ratings\n",
        "train_matrix_pred = np.dot(W, H)\n",
        "\n",
        "# Prepare test data\n",
        "test_matrix = test.pivot(index='uID', columns='mID', values='rating')\n",
        "\n",
        "# Ensure train and test matrices have the same columns\n",
        "missing_cols = list(set(train_matrix.columns) - set(test_matrix.columns))\n",
        "missing_df = pd.DataFrame(0, index=test_matrix.index, columns=missing_cols)\n",
        "test_matrix = pd.concat([test_matrix, missing_df], axis=1)\n",
        "\n",
        "# Align test matrix to have the same order of columns as train matrix\n",
        "test_matrix = test_matrix[train_matrix.columns]\n",
        "\n",
        "# Extract test ratings\n",
        "test_ratings = test.pivot(index='uID', columns='mID', values='rating').stack()\n",
        "\n",
        "# Predict test ratings\n",
        "test_pred = []\n",
        "for uid, mid in test_ratings.index:\n",
        "    # Adjust for zero-based indexing\n",
        "    if uid - 1 < train_matrix_pred.shape[0] and mid - 1 < train_matrix_pred.shape[1]:\n",
        "        test_pred.append(train_matrix_pred[uid - 1, mid - 1])\n",
        "    else:\n",
        "        # If the user or movie index is out of bounds, append a default prediction (e.g., mean rating)\n",
        "        test_pred.append(train_matrix_pred.mean())\n",
        "\n",
        "# Calculate RMSE\n",
        "rmse = np.sqrt(mean_squared_error(test_ratings, test_pred))\n",
        "print(f\"RMSE: {rmse}\")"
      ],
      "metadata": {
        "colab": {
          "base_uri": "https://localhost:8080/"
        },
        "id": "PyhfeDFlthSI",
        "outputId": "018961e6-9101-48b6-d94e-4e28bb9ddb00"
      },
      "execution_count": 9,
      "outputs": [
        {
          "output_type": "stream",
          "name": "stdout",
          "text": [
            "RMSE: 3.5045622216788614\n"
          ]
        }
      ]
    },
    {
      "cell_type": "markdown",
      "source": [
        "# Result\n",
        "The RMSE value of 3.50 indicates that predictions made with the NMF model are relatively inaccurate. A high RMSE suggests that this model may not be capturing the data patterns effectively.\n",
        "\n",
        "# Discussion:\n",
        "\n",
        "The RMSE value obtained from the NMF approach is much higher than that obtained with the baseline and similarity-based methods in Module 3. This may be the result of limitations to using sklearn's non-negative matrix factorization (NMF) that make it inappropriate for this task. These reasons include:\n",
        "1. Scalability: NMF can be computationally expensive for large datasets due to its iterative nature.\n",
        "2. Sparse Data: NMF may not handle highly sparse data well, which is common in recommendation systems.\n",
        "3. Overfitting: NMF can easily overfit the training data, especially if the number of latent features is not well-tuned.\n",
        "\n",
        "Here are a couple of suggestions to improve the results:\n",
        "1. Hybrid Models: Combine NMF with other collaborative or content-based filtering methods to address the cold start problem and improve accuracy.\n",
        "2. Regularization: Introduce regularization terms to the NMF optimization process to prevent overfitting.\n"
      ],
      "metadata": {
        "id": "UBJHnBLjLWiV"
      }
    }
  ]
}